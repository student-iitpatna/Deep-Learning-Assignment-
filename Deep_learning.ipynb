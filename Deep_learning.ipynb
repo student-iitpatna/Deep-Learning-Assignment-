{
  "nbformat": 4,
  "nbformat_minor": 0,
  "metadata": {
    "colab": {
      "provenance": []
    },
    "kernelspec": {
      "name": "python3",
      "display_name": "Python 3"
    },
    "language_info": {
      "name": "python"
    }
  },
  "cells": [
    {
      "cell_type": "markdown",
      "source": [
        "**THEORERICAL QUESTIONS**"
      ],
      "metadata": {
        "id": "v3xY2NE-x9WW"
      }
    },
    {
      "cell_type": "markdown",
      "source": [
        "1. What is TensorFlow 2.0, and how is it different from TensorFlow 1.x?\n",
        "\n",
        "ANSWER: **TensorFlow 2.0 **is a major upgrade of the TensorFlow library that:\n",
        "\n",
        "*Emphasizes eager execution by default (no static graph).\n",
        "\n",
        "*Simplifies APIs using Keras as the main high-level API.\n",
        "\n",
        "*Offers better debugging, readability, and performance.\n",
        "\n",
        "*Removes or deprecates many legacy APIs and redundant features.\n",
        "\n",
        "**Key differences:**\n",
        "\n",
        "*TF 2 uses tf.function for optional graph-mode optimization.\n",
        "\n",
        "*TF 1.x required manual session management (tf.Session).\n",
        "\n"
      ],
      "metadata": {
        "id": "1hcV8arpybAE"
      }
    },
    {
      "cell_type": "markdown",
      "source": [
        "2.  How do you install TensorFlow 2.0?\n"
      ],
      "metadata": {
        "id": "m6JLOBOGyqzK"
      }
    },
    {
      "cell_type": "markdown",
      "source": [
        "pip install tensorflow"
      ],
      "metadata": {
        "id": "wdvzNfuFzJWS"
      }
    },
    {
      "cell_type": "markdown",
      "source": [
        "3. What is the primary function of tf.function in TensorFlow 2.0?\n",
        "\n",
        "ANSWER : tf.function converts a Python function into a TensorFlow graph for performance optimization.\n",
        "\n"
      ],
      "metadata": {
        "id": "FmSIugnQy1CI"
      }
    },
    {
      "cell_type": "code",
      "source": [
        "@tf.function\n",
        "def add(a, b):\n",
        "    return a + b"
      ],
      "metadata": {
        "id": "aPGF_2XRzHBd"
      },
      "execution_count": null,
      "outputs": []
    },
    {
      "cell_type": "markdown",
      "source": [
        "4. What is the purpose of the Model class in TensorFlow 2.0?\n",
        "\n",
        "ANSWER : The tf.keras.Model class defines the structure and behavior of your neural network, supporting:\n",
        "\n",
        "*Training (.fit)\n",
        "\n",
        "*Evaluation (.evaluate)\n",
        "\n",
        "*Prediction (.predict)\n",
        "\n",
        "*Custom training loops"
      ],
      "metadata": {
        "id": "EPwGcpx3zH26"
      }
    },
    {
      "cell_type": "markdown",
      "source": [
        "5.  How do you create a neural network using TensorFlow 2.0?\n",
        "\n",
        "ANSWER : Using the Keras API:"
      ],
      "metadata": {
        "id": "nYs4M_l6MUvM"
      }
    },
    {
      "cell_type": "code",
      "source": [
        "model = tf.keras.Sequential([\n",
        "    tf.keras.layers.Dense(64, activation='relu', input_shape=(10,)),\n",
        "    tf.keras.layers.Dense(1)\n",
        "])\n",
        "model.compile(optimizer='adam', loss='mse')\n",
        "model.fit(X_train, y_train, epochs=5)"
      ],
      "metadata": {
        "id": "cewDKi2yMk9i"
      },
      "execution_count": null,
      "outputs": []
    },
    {
      "cell_type": "markdown",
      "source": [
        "6.  What is the importance of Tensor space in TensorFlow?\n",
        "\n",
        "ANSWER : A tensor space refers to the multi-dimensional structure used to represent data. It’s foundational for:\n",
        "\n",
        "*Efficient numerical computation\n",
        "\n",
        "*GPU/TPU acceleration\n",
        "\n",
        "*Deep learning model inputs/outputs\n",
        "\n"
      ],
      "metadata": {
        "id": "v7xGV1WLMjH3"
      }
    },
    {
      "cell_type": "markdown",
      "source": [
        "7. How can TensorBoard be integrated with TensorFlow 2.0?\n",
        "\n",
        "ANSWER :"
      ],
      "metadata": {
        "id": "uhXPfzYMM1GL"
      }
    },
    {
      "cell_type": "code",
      "source": [
        "tensorboard_callback = tf.keras.callbacks.TensorBoard(log_dir='./logs')\n",
        "model.fit(X, y, epochs=10, callbacks=[tensorboard_callback])"
      ],
      "metadata": {
        "id": "D3byZrz8M8Cw"
      },
      "execution_count": null,
      "outputs": []
    },
    {
      "cell_type": "code",
      "source": [
        "tensorboard --logdir=./logs"
      ],
      "metadata": {
        "id": "17OoG0YdM_UW"
      },
      "execution_count": null,
      "outputs": []
    },
    {
      "cell_type": "markdown",
      "source": [
        "8. What is the purpose of TensorFlow Playground?\n"
      ],
      "metadata": {
        "id": "BM-dXuTFNEml"
      }
    },
    {
      "cell_type": "markdown",
      "source": [
        "ANSWER :\n",
        "\n",
        "It’s an interactive web tool for visualizing and experimenting with neural networks in your browser:\n",
        "\n",
        "*Teaches key concepts like activation functions, layers, regularization\n",
        "\n",
        "*Great for beginners"
      ],
      "metadata": {
        "id": "OA73eJ8Ud6Aq"
      }
    },
    {
      "cell_type": "markdown",
      "source": [
        "9.  What is Netron, and how is it useful for deep learning models?\n"
      ],
      "metadata": {
        "id": "sDR1-j8Qd-qj"
      }
    },
    {
      "cell_type": "markdown",
      "source": [
        "ANSWER :\n",
        "\n",
        "Netron is a viewer for neural network model structures (ONNX, Keras, TensorFlow, PyTorch).\n",
        "\n",
        "Helps visualize architecture and layer connections.\n",
        "\n",
        "Useful for debugging and sharing model insights."
      ],
      "metadata": {
        "id": "g5Ua_EMOeOh7"
      }
    },
    {
      "cell_type": "markdown",
      "source": [
        "10.  What is the difference between TensorFlow and PyTorch?\n",
        "\n",
        "ANSWER :\n",
        "\n",
        "Feature\t            TensorFlow 2.x\t                        PyTorch\n",
        "\n",
        "Execution\t          Graph & Eager (hybrid)\t            Eager by default\n",
        "API\t                Keras + TensorFlow                  Core\tSimple, Pythonic\n",
        "Debugging          \tSlightly harder\t                    Easier with native Python\n",
        "Community\t          Wide enterprise use\t                Academic and research favored\n"
      ],
      "metadata": {
        "id": "DQCYz6udfOau"
      }
    },
    {
      "cell_type": "markdown",
      "source": [
        "11. How do you install PyTorch?\n",
        "\n",
        "ANSWER :\n",
        "\n",
        " pip install torch torchvision torchaudio"
      ],
      "metadata": {
        "id": "0fX4VbCjhUjc"
      }
    },
    {
      "cell_type": "markdown",
      "source": [
        "12. What is the basic structure of a PyTorch neural network?\n",
        "\n",
        "ANSWER:"
      ],
      "metadata": {
        "id": "N1r3uwKGhuzm"
      }
    },
    {
      "cell_type": "code",
      "source": [
        "import torch.nn as nn\n",
        "\n",
        "class Net(nn.Module):\n",
        "    def __init__(self):\n",
        "        super(Net, self).__init__()\n",
        "        self.fc = nn.Linear(10, 1)\n",
        "\n",
        "    def forward(self, x):\n",
        "        return self.fc(x)"
      ],
      "metadata": {
        "id": "R3rARIVsiGqp"
      },
      "execution_count": null,
      "outputs": []
    },
    {
      "cell_type": "markdown",
      "source": [
        "13. What is the significance of tensors in PyTorch?\n",
        "\n",
        "ANSWER : Tensors are the core data structure:\n",
        "\n",
        "*Efficient for matrix operations\n",
        "\n",
        "*Support GPU acceleration with .to('cuda')\n",
        "\n",
        "*Analogous to NumPy arrays, but more powerful for deep learning"
      ],
      "metadata": {
        "id": "LKvPQSGqiKL_"
      }
    },
    {
      "cell_type": "markdown",
      "source": [
        "14.   Difference Between torch.Tensor and torch.cuda.Tensor.\n",
        "\n",
        "ANSWER:\n",
        "*torch.Tensor: CPU-based tensor\n",
        "\n",
        "*torch.cuda.Tensor: Lives on GPU for acceleration\n",
        "EXAMPLE :"
      ],
      "metadata": {
        "id": "lre69tC1i3QP"
      }
    },
    {
      "cell_type": "code",
      "source": [
        "x = torch.tensor([1.0])        # CPU\n",
        "x_gpu = x.to('cuda')           # GPU\n"
      ],
      "metadata": {
        "id": "naN9uB-7jPOx"
      },
      "execution_count": null,
      "outputs": []
    },
    {
      "cell_type": "markdown",
      "source": [
        "15. What is the purpose of torch.optim?\n",
        "\n",
        "ANSWER :\n",
        "\n",
        "torch.optim contains optimizers like SGD, Adam, etc., for training models."
      ],
      "metadata": {
        "id": "FAtrS6gVjSFn"
      }
    },
    {
      "cell_type": "code",
      "source": [
        "optimizer = torch.optim.Adam(model.parameters(), lr=0.001)"
      ],
      "metadata": {
        "id": "VF6r1qdZjdOE"
      },
      "execution_count": null,
      "outputs": []
    },
    {
      "cell_type": "markdown",
      "source": [
        "16. Common Activation Functions\n",
        "\n",
        "ANSWER :\n",
        "\n",
        "*ReLU (nn.ReLU())\n",
        "\n",
        "*Sigmoid (nn.Sigmoid())\n",
        "\n",
        "*Tanh (nn.Tanh())\n",
        "\n",
        "*Softmax (nn.Softmax(dim=1))\n",
        "\n"
      ],
      "metadata": {
        "id": "hlOvdg4Ojfpt"
      }
    },
    {
      "cell_type": "markdown",
      "source": [
        "17. Difference: torch.nn.Module vs torch.nn.Sequential\n",
        "\n",
        "ANSWER :\n",
        "\n",
        "*nn.Module: Base class for defining custom architectures.\n",
        "\n",
        "*nn.Sequential: Simplified wrapper for layers in order.\n",
        "\n"
      ],
      "metadata": {
        "id": "gf6EMdzrkK7x"
      }
    },
    {
      "cell_type": "code",
      "source": [
        "model = nn.Sequential(\n",
        "    nn.Linear(10, 5),\n",
        "    nn.ReLU(),\n",
        "    nn.Linear(5, 1)\n",
        ")"
      ],
      "metadata": {
        "id": "Lhb8zBFDklF6"
      },
      "execution_count": null,
      "outputs": []
    },
    {
      "cell_type": "markdown",
      "source": [
        "18.  How to Monitor Training in TensorFlow 2.0?\n",
        "\n",
        "ANSWER :\n",
        "\n",
        "Use:\n",
        "\n",
        "*TensorBoard (via callbacks)\n",
        "\n",
        "*History object returned by .fit()\n",
        "\n",
        "*Custom training loops with real-time logging"
      ],
      "metadata": {
        "id": "SLor4FTRkm4K"
      }
    },
    {
      "cell_type": "markdown",
      "source": [
        "19. How Does Keras API Fit into TensorFlow 2.0?\n",
        "\n",
        "ANSWER:\n",
        "\n",
        "Keras is fully integrated into TensorFlow 2.x as tf.keras. It's the default high-level API for building and training models.\n",
        "\n"
      ],
      "metadata": {
        "id": "RctIwuLzlHow"
      }
    },
    {
      "cell_type": "markdown",
      "source": [
        "20. Example Deep Learning Project with TensorFlow 2.0\n",
        "\n",
        "ANSWER:\n",
        "\n",
        "Handwritten digit classification (MNIST):\n",
        "\n",
        "*Load data using tf.keras.datasets.mnist\n",
        "\n",
        "*Build a CNN or MLP\n",
        "\n",
        "*Train with model.fit()\n",
        "\n",
        "*Evaluate accuracy\n",
        "\n"
      ],
      "metadata": {
        "id": "60mGzXPylPX0"
      }
    },
    {
      "cell_type": "markdown",
      "source": [
        "21. Main Advantage of Pre-Trained Models\n",
        "\n",
        "ANSWER :\n",
        "\n",
        "*Save time and resources\n",
        "\n",
        "*Useful for transfer learning\n",
        "\n",
        "*Improve performance on tasks with limited data"
      ],
      "metadata": {
        "id": "2NaZyEOylfZi"
      }
    },
    {
      "cell_type": "markdown",
      "source": [
        "**PRACTICAL QUESTIONS**"
      ],
      "metadata": {
        "id": "nGF0y-lrlrbE"
      }
    },
    {
      "cell_type": "markdown",
      "source": [
        "1. INSTALL :"
      ],
      "metadata": {
        "id": "I84kZb7glwxM"
      }
    },
    {
      "cell_type": "code",
      "source": [
        "pip install tensorflow"
      ],
      "metadata": {
        "id": "A64_LgzWmezV"
      },
      "execution_count": null,
      "outputs": []
    },
    {
      "cell_type": "markdown",
      "source": [
        "VERIFY:"
      ],
      "metadata": {
        "id": "lg7I0U4omVil"
      }
    },
    {
      "cell_type": "code",
      "source": [
        "import tensorflow as tf\n",
        "print(tf.__version__)"
      ],
      "metadata": {
        "id": "JH06UC7xmXb4"
      },
      "execution_count": null,
      "outputs": []
    },
    {
      "cell_type": "markdown",
      "source": [
        "2. Define a Simple Addition Function"
      ],
      "metadata": {
        "id": "qipQ3TZdmkIc"
      }
    },
    {
      "cell_type": "code",
      "source": [
        "import tensorflow as tf\n",
        "\n",
        "@tf.function\n",
        "def add(a, b):\n",
        "    return a + b\n",
        "\n",
        "print(add(3, 5))\n"
      ],
      "metadata": {
        "id": "py5g15LzmnUF"
      },
      "execution_count": null,
      "outputs": []
    },
    {
      "cell_type": "markdown",
      "source": [
        "3. Create a Simple Neural Network (One Hidden Layer)"
      ],
      "metadata": {
        "id": "OkpMW3ZbmsKf"
      }
    },
    {
      "cell_type": "code",
      "source": [
        "from tensorflow.keras.models import Sequential\n",
        "from tensorflow.keras.layers import Dense\n",
        "\n",
        "model = Sequential([\n",
        "    Dense(10, activation='relu', input_shape=(4,)),  # Hidden layer\n",
        "    Dense(1)  # Output layer\n",
        "])\n",
        "model.compile(optimizer='adam', loss='mse')"
      ],
      "metadata": {
        "id": "00EGg0Ghmv7n"
      },
      "execution_count": null,
      "outputs": []
    },
    {
      "cell_type": "markdown",
      "source": [
        "4. Visualize Training with Matplotlib\n",
        "\n"
      ],
      "metadata": {
        "id": "qGkKtLJ-myg8"
      }
    },
    {
      "cell_type": "code",
      "source": [
        "import matplotlib.pyplot as plt\n",
        "\n",
        "history = model.fit(X_train, y_train, epochs=10, validation_data=(X_val, y_val))\n",
        "\n",
        "# Plot loss\n",
        "plt.plot(history.history['loss'], label='Training loss')\n",
        "plt.plot(history.history['val_loss'], label='Validation loss')\n",
        "plt.xlabel('Epochs')\n",
        "plt.ylabel('Loss')\n",
        "plt.legend()\n",
        "plt.title('Training Progress')\n",
        "plt.show()"
      ],
      "metadata": {
        "id": "Bl_mFsJYm-Jh"
      },
      "execution_count": null,
      "outputs": []
    },
    {
      "cell_type": "markdown",
      "source": [
        "5. Save and Load a TensorFlow Model"
      ],
      "metadata": {
        "id": "RWG7GqPnnC4u"
      }
    },
    {
      "cell_type": "markdown",
      "source": [
        "save model :"
      ],
      "metadata": {
        "id": "j2Q-nwEtnJG-"
      }
    },
    {
      "cell_type": "code",
      "source": [
        "model.save('my_model.h5')"
      ],
      "metadata": {
        "id": "0G9M7g19nWSd"
      },
      "execution_count": null,
      "outputs": []
    },
    {
      "cell_type": "markdown",
      "source": [
        "load model :"
      ],
      "metadata": {
        "id": "bI-uQ5hcnZos"
      }
    },
    {
      "cell_type": "code",
      "source": [
        "from tensorflow.keras.models import load_model\n",
        "model = load_model('my_model.h5')"
      ],
      "metadata": {
        "id": "75cIJTalnb6E"
      },
      "execution_count": null,
      "outputs": []
    },
    {
      "cell_type": "markdown",
      "source": [
        "6. Install and Verify PyTorch"
      ],
      "metadata": {
        "id": "ZweVxpNdneyv"
      }
    },
    {
      "cell_type": "markdown",
      "source": [
        "install (CPU):"
      ],
      "metadata": {
        "id": "jx-FhtSTnkbg"
      }
    },
    {
      "cell_type": "code",
      "source": [
        "pip install torch torchvision"
      ],
      "metadata": {
        "id": "of03QS-9nn4s"
      },
      "execution_count": null,
      "outputs": []
    },
    {
      "cell_type": "markdown",
      "source": [
        "verify:"
      ],
      "metadata": {
        "id": "2UdEklvMnq3b"
      }
    },
    {
      "cell_type": "code",
      "source": [
        "import torch\n",
        "print(torch.__version__)\n",
        "print(\"CUDA available:\", torch.cuda.is_available())"
      ],
      "metadata": {
        "id": "uflfZh0BnvCv"
      },
      "execution_count": null,
      "outputs": []
    },
    {
      "cell_type": "markdown",
      "source": [
        "7. Create a Simple Neural Network in PyTorch"
      ],
      "metadata": {
        "id": "BxfZ6Jt6nvxW"
      }
    },
    {
      "cell_type": "code",
      "source": [
        "import torch.nn as nn\n",
        "import torch.nn.functional as F\n",
        "\n",
        "class SimpleNN(nn.Module):\n",
        "    def __init__(self):\n",
        "        super(SimpleNN, self).__init__()\n",
        "        self.fc1 = nn.Linear(4, 10)  # Input → Hidden\n",
        "        self.fc2 = nn.Linear(10, 1)  # Hidden → Output\n",
        "\n",
        "    def forward(self, x):\n",
        "        x = F.relu(self.fc1(x))\n",
        "        return self.fc2(x)\n",
        "\n",
        "model = SimpleNN()"
      ],
      "metadata": {
        "id": "Tm5cRoeCnyr4"
      },
      "execution_count": null,
      "outputs": []
    },
    {
      "cell_type": "markdown",
      "source": [
        "8. Define Loss Function and Optimizer"
      ],
      "metadata": {
        "id": "CB51-XvTn1rO"
      }
    },
    {
      "cell_type": "code",
      "source": [
        "import torch.optim as optim\n",
        "\n",
        "criterion = nn.MSELoss()\n",
        "optimizer = optim.Adam(model.parameters(), lr=0.001)"
      ],
      "metadata": {
        "id": "Tx7wJ8nBn4gE"
      },
      "execution_count": null,
      "outputs": []
    },
    {
      "cell_type": "markdown",
      "source": [
        "9. Implement a Custom Loss Function"
      ],
      "metadata": {
        "id": "jAL_y68Vn6bk"
      }
    },
    {
      "cell_type": "code",
      "source": [
        "def custom_loss(output, target):\n",
        "    return torch.mean((output - target) ** 2 + 0.1 * torch.abs(output - target))"
      ],
      "metadata": {
        "id": "0H7o64GGoCCj"
      },
      "execution_count": null,
      "outputs": []
    },
    {
      "cell_type": "code",
      "source": [
        "loss = custom_loss(predictions, targets)"
      ],
      "metadata": {
        "id": "uwgg2q0DoF8j"
      },
      "execution_count": null,
      "outputs": []
    }
  ]
}